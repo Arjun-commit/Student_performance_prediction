{
 "cells": [
  {
   "cell_type": "markdown",
   "metadata": {},
   "source": [
    "# Proposal Peer Review"
   ]
  },
  {
   "cell_type": "markdown",
   "metadata": {},
   "source": [
    "The following is the peer review of the project proposal by \"project-analytixperts-analytixperts\"\n",
    ". The team members that participated in this review are:\n",
    "\n",
    "-  Cherukuru Bharath - @Bharath-ch40\n",
    "-  Ainsleylimesand - @ainselyllimesand\n",
    "-  Joannchang - @joannchang0\n",
    "-  Pragnya Narasimha - @praagnya08\n",
    "-  Abhiram Varma Nandimandalam- @abhi9ram"
   ]
  },
  {
   "cell_type": "markdown",
   "metadata": {},
   "source": [
    "## Describe the goal of the project."
   ]
  },
  {
   "cell_type": "markdown",
   "metadata": {},
   "source": [
    "_Provide a summary of the project goal here._"
   ]
  },
  {
   "cell_type": "markdown",
   "metadata": {},
   "source": [
    "The main objective of the project is to study how different social and economic factors impact students’ performance, on tests.The team seeks to discover the factors that affect academic achievement through this analysis.This knowledge could help shape education policies give families guidance on assisting their children’s progress and play a role, in societal endeavors to enhance educational results. "
   ]
  },
  {
   "cell_type": "markdown",
   "metadata": {},
   "source": [
    "## Describe the data used or collected."
   ]
  },
  {
   "cell_type": "markdown",
   "metadata": {},
   "source": [
    "_Describe the type, source, and characteristics of the data._"
   ]
  },
  {
   "cell_type": "markdown",
   "metadata": {},
   "source": [
    "The dataset has numbers (exam scores) and categories (like gender, race, and parental education). It combines information about students' backgrounds with their test results.\n",
    "\n",
    "The dataset is about 1,000 students and their exam results in math, reading, and writing. \n",
    "\n",
    "The data was created using a tool by Dr. Royce Kimmons, a professor at BYU. It’s not real data, but it’s designed to look realistic and reflect patterns found in actual student performance.\n",
    "\n",
    "It also includes some background information, like:\n",
    "\n",
    "Whether the student is male or female.\n",
    "Their race or ethnicity, grouped into categories labeled A to E.\n",
    "Their parents' education level, like high school or college.\n",
    "The type of lunch they get at school (standard or free/reduced).\n",
    "Whether they completed a test preparation course or not."
   ]
  },
  {
   "cell_type": "markdown",
   "metadata": {},
   "source": [
    "## Describe how the research question will be answered (approaches/methods)."
   ]
  },
  {
   "cell_type": "markdown",
   "metadata": {},
   "source": [
    "_List and briefly explain the approaches or methods used._"
   ]
  },
  {
   "cell_type": "markdown",
   "metadata": {},
   "source": [
    "The research questions can be asked like \"What outside factors most greatly influence a student’s standardized exam grades?\"\n",
    "\n",
    "The following approached or methods will be useful to answer those questions:\n",
    "\n",
    "Data Cleaning and Preparation:\n",
    "\n",
    "Check for any missing or duplicate data and remove it if necessary.\n",
    "Identify and handle outliers using visual tools like box plots.\n",
    "\n",
    "Exploratory Data Analysis (EDA):\n",
    "\n",
    "Use visualizations such as scatter plots, bar charts, and heatmaps to explore how factors like gender, parental education, and test preparation affect exam scores.\n",
    "Identify any key trends or patterns in the data.\n",
    "\n",
    "Modeling:\n",
    "\n",
    "Apply classification models (e.g., logistic regression, decision trees, random forests) to analyze which factors influence exam performance.\n",
    "The model will predict the level of performance (high, medium, low) based on the different features (like race, lunch type, and parental education).\n",
    "\n",
    "Model Evaluation:\n",
    "\n",
    "Evaluate the model's performance using metrics like ROC-AUC, accuracy, precision, and recall.\n",
    "Use cross-validation to ensure the model is reliable and doesn't overfit.\n",
    "\n",
    "Interpretation:\n",
    "\n",
    "Analyze which features (e.g., parental education, lunch type) have the strongest impact on exam scores.\n",
    "\n",
    "We can use the results to answer the main research questions.\n"
   ]
  },
  {
   "cell_type": "markdown",
   "metadata": {},
   "source": [
    "## Is there anything that is unclear from the proposal?"
   ]
  },
  {
   "cell_type": "markdown",
   "metadata": {},
   "source": [
    "_List any points of confusion or areas that need clarification._"
   ]
  },
  {
   "cell_type": "markdown",
   "metadata": {},
   "source": [
    "Data Preprocessing Steps:\n",
    "\n",
    "The plan mentions categorizing scores as high, medium, or low, but it does not specify how these categories will be defined. More details on how the score thresholds will be determined?\n",
    "\n",
    "Model Evaluation Metrics:\n",
    "\n",
    "The proposal mentions using AUC and ROC scores but does not address other common evaluation metrics like accuracy, precision, recall, or F1 score. Given that the project is focused on classification, these additional metrics should be mentioned for a more comprehensive evaluation.\n",
    "\n",
    "Ethical Considerations:\n",
    "\n",
    "While the proposal acknowledges that race is a sensitive feature, it does not explain in detail how the team will handle potential biases in the model. More clarification on how the anonymization of race will prevent bias or misinterpretation is needed?"
   ]
  },
  {
   "cell_type": "markdown",
   "metadata": {},
   "source": [
    "## Provide constructive feedback on how the team might improve their project."
   ]
  },
  {
   "cell_type": "markdown",
   "metadata": {},
   "source": [
    "_Offer suggestions for improvement._"
   ]
  },
  {
   "cell_type": "markdown",
   "metadata": {},
   "source": [
    "In Data Cleaning Steps:\n",
    "\n",
    "Explain more clearly how you'll clean the data, especially when sorting exam scores into \"high, medium, or low.\" For example, how will you decide the cutoff for each category?\n",
    "\n",
    "In Model Evaluation:\n",
    "\n",
    "In addition to AUC and ROC scores, consider using other evaluation metrics like accuracy, precision, recall, and F1 score to get a complete view of your model’s performance.\n",
    "\n",
    "Ethical Considerations:\n",
    "\n",
    "Since your data includes sensitive factors like race, think about how you will make sure the model doesn't reinforce biases.\n",
    "\n",
    "Choosing the Right Model:\n",
    "\n",
    "Explain why you choose a particular classification model. Will you try other models to see which one works best?Try multiple models and use cross-validation to make sure the one you choose is the best."
   ]
  },
  {
   "cell_type": "markdown",
   "metadata": {},
   "source": [
    "## What aspect of this project are you most interested in and would like to see highlighted in the presentation?"
   ]
  },
  {
   "cell_type": "markdown",
   "metadata": {},
   "source": [
    "_Mention the most intriguing part of the project._"
   ]
  },
  {
   "cell_type": "markdown",
   "metadata": {},
   "source": [
    "What really stands out in this project is the exploration of how different socioeconomic factors, like parental education, lunch type, and gender, influence student exam performance. It would be fascinating to see how these factors interact and impact students' scores, especially if you uncover any surprising patterns. I'm also interested in how you'll address potential biases, particularly with sensitive topics like race, as that’s an important consideration. "
   ]
  },
  {
   "cell_type": "markdown",
   "metadata": {},
   "source": [
    "## Provide constructive feedback on any issues with file and/or code organization."
   ]
  },
  {
   "cell_type": "markdown",
   "metadata": {},
   "source": [
    "_Note any file structure or coding organization feedback._"
   ]
  },
  {
   "cell_type": "markdown",
   "metadata": {},
   "source": [
    "Here are the things that we need to really care:\n",
    "\n",
    "1. Organize Files clearly.\n",
    "2. Use Descriptive Files Names.\n",
    "3. Break Large Blocks Of Code into Simple Pieces.\n",
    "4. Add Comments and Documentation.\n"
   ]
  },
  {
   "cell_type": "markdown",
   "metadata": {},
   "source": [
    "## (Optional) Any further comments or feedback?"
   ]
  },
  {
   "cell_type": "markdown",
   "metadata": {},
   "source": [
    "_Add any additional comments here._"
   ]
  },
  {
   "cell_type": "markdown",
   "metadata": {},
   "source": [
    "Data Use:\n",
    "\n",
    " Since the dataset is generated and fictitious, it's important to emphasize the limitations of the data in your final presentation.\n",
    "\n",
    " Expand on Model Choices: \n",
    "\n",
    " It's great that you're planning to use a classification model, but consider briefly exploring why certain models (e.g., logistic regression, decision trees, or random forests) might be better suited for this task over others"
   ]
  }
 ],
 "metadata": {
  "kernelspec": {
   "display_name": "Python 3",
   "language": "python",
   "name": "python3"
  },
  "language_info": {
   "codemirror_mode": {
    "name": "ipython",
    "version": 3
   },
   "file_extension": ".py",
   "mimetype": "text/x-python",
   "name": "python",
   "nbconvert_exporter": "python",
   "pygments_lexer": "ipython3",
   "version": "3.8.5"
  }
 },
 "nbformat": 4,
 "nbformat_minor": 4
}
